{
 "cells": [
  {
   "cell_type": "code",
   "execution_count": null,
   "id": "ec9fd449-0fc0-46b3-a987-a7201e344ce3",
   "metadata": {},
   "outputs": [],
   "source": [
    "from paraview import simple\n",
    "from ptc.apps.lite import Lite"
   ]
  },
  {
   "cell_type": "code",
   "execution_count": null,
   "id": "92acac84-fe7b-4d43-bd92-481b7400b9e0",
   "metadata": {},
   "outputs": [],
   "source": [
    "cone = simple.Cone()\n",
    "rep = simple.Show(cone)\n",
    "view = simple.Render()"
   ]
  },
  {
   "cell_type": "code",
   "execution_count": null,
   "id": "bed5446b-9db2-4ba8-9264-c22ae626c93c",
   "metadata": {},
   "outputs": [],
   "source": [
    "viewer = Lite()\n",
    "await viewer.ui.ready"
   ]
  },
  {
   "cell_type": "code",
   "execution_count": null,
   "id": "879c0602-4b91-47a6-88b8-cd799ee788f4",
   "metadata": {},
   "outputs": [],
   "source": [
    "viewer.ui"
   ]
  },
  {
   "cell_type": "code",
   "execution_count": null,
   "id": "0b020583-9e96-4742-a19c-11ef845a9ac4",
   "metadata": {},
   "outputs": [],
   "source": []
  }
 ],
 "metadata": {
  "kernelspec": {
   "display_name": "Python 3 (ipykernel)",
   "language": "python",
   "name": "python3"
  },
  "language_info": {
   "codemirror_mode": {
    "name": "ipython",
    "version": 3
   },
   "file_extension": ".py",
   "mimetype": "text/x-python",
   "name": "python",
   "nbconvert_exporter": "python",
   "pygments_lexer": "ipython3",
   "version": "3.12.10"
  }
 },
 "nbformat": 4,
 "nbformat_minor": 5
}
